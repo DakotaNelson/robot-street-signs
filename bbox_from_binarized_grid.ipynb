{
 "cells": [
  {
   "cell_type": "code",
   "execution_count": 1,
   "metadata": {
    "collapsed": false
   },
   "outputs": [],
   "source": [
    "%matplotlib inline\n",
    "import cv2\n",
    "import matplotlib.pyplot as plt\n",
    "import numpy as np"
   ]
  },
  {
   "cell_type": "code",
   "execution_count": 2,
   "metadata": {
    "collapsed": false
   },
   "outputs": [
    {
     "name": "stdout",
     "output_type": "stream",
     "text": [
      "bbox_from_binarized_grid.ipynb  \u001b[0m\u001b[01;35mbin_img_0090.jpg\u001b[0m  package.xml  \u001b[01;35msigns.png\u001b[0m\r\n",
      "bbox_images.ipynb               CMakeLists.txt    README.md\r\n",
      "\u001b[01;35mbin_img_0015.jpg\u001b[0m                LICENSE           \u001b[01;34mscripts\u001b[0m/\r\n"
     ]
    }
   ],
   "source": [
    "ls"
   ]
  },
  {
   "cell_type": "code",
   "execution_count": 3,
   "metadata": {
    "collapsed": true
   },
   "outputs": [],
   "source": [
    "img = cv2.imread('bin_img_0090.jpg')"
   ]
  },
  {
   "cell_type": "code",
   "execution_count": 4,
   "metadata": {
    "collapsed": true
   },
   "outputs": [],
   "source": [
    "imgcopy = img.copy()"
   ]
  },
  {
   "cell_type": "code",
   "execution_count": 5,
   "metadata": {
    "collapsed": false
   },
   "outputs": [],
   "source": [
    "img = img[:, :, 0] # get one channel, its already like this in the program"
   ]
  },
  {
   "cell_type": "code",
   "execution_count": 6,
   "metadata": {
    "collapsed": false
   },
   "outputs": [
    {
     "data": {
      "text/plain": [
       "<matplotlib.image.AxesImage at 0x7f3420ce7850>"
      ]
     },
     "execution_count": 6,
     "metadata": {},
     "output_type": "execute_result"
    },
    {
     "data": {
      "image/png": "[encoded data removed]",
      "text/plain": [
       "<matplotlib.figure.Figure at 0x7f3421587410>"
      ]
     },
     "metadata": {},
     "output_type": "display_data"
    }
   ],
   "source": [
    "plt.imshow(img, cmap='gray')"
   ]
  },
  {
   "cell_type": "code",
   "execution_count": 7,
   "metadata": {
    "collapsed": false
   },
   "outputs": [],
   "source": [
    "def bbox_from_binarized_grid(img, gridsize=(10,10), percentage=0.20):\n",
    "    gridrows, gridcols = gridsize\n",
    "    m, n = img.shape\n",
    "    \n",
    "    GRID = np.zeros(gridsize)\n",
    "    \n",
    "    block_size = (m/gridrows, n/gridcols)\n",
    "    for i in range(gridrows):\n",
    "        for j in range(gridcols):\n",
    "            \n",
    "            block = img[int(block_size[0]*i):int(block_size[0]*(i+1)), int(block_size[1]*j):int(block_size[1]*(j+1))]\n",
    "            # if half the block was white (the correct filtered color)\n",
    "            threshold = block_size[0] * block_size[1] * 255 * percentage\n",
    "            if block.sum() >= threshold:\n",
    "                GRID[i,j] = 1\n",
    "    \n",
    "    return GRID"
   ]
  },
  {
   "cell_type": "code",
   "execution_count": 8,
   "metadata": {
    "collapsed": false
   },
   "outputs": [
    {
     "name": "stdout",
     "output_type": "stream",
     "text": [
      "[[ 0.  0.  0.  0.  0.  0.  0.  0.  0.  0.  0.  0.  0.  0.  0.]\n",
      " [ 0.  0.  0.  0.  0.  0.  0.  0.  0.  0.  0.  0.  0.  0.  0.]\n",
      " [ 0.  0.  0.  0.  0.  0.  0.  0.  0.  0.  0.  0.  0.  0.  0.]\n",
      " [ 0.  0.  0.  0.  0.  0.  0.  0.  0.  0.  0.  0.  0.  0.  0.]\n",
      " [ 0.  0.  0.  0.  0.  0.  0.  1.  0.  0.  0.  0.  0.  0.  0.]\n",
      " [ 0.  0.  0.  0.  0.  0.  1.  1.  0.  0.  0.  0.  0.  0.  0.]\n",
      " [ 0.  0.  0.  0.  0.  0.  0.  1.  0.  0.  0.  0.  0.  0.  0.]\n",
      " [ 0.  0.  0.  0.  0.  0.  0.  0.  0.  0.  0.  0.  0.  0.  0.]\n",
      " [ 0.  0.  0.  0.  0.  0.  0.  0.  0.  0.  0.  0.  0.  0.  0.]\n",
      " [ 0.  0.  0.  0.  0.  0.  0.  0.  0.  0.  0.  0.  0.  0.  0.]\n",
      " [ 0.  0.  0.  0.  0.  0.  0.  0.  0.  0.  0.  0.  0.  0.  0.]\n",
      " [ 0.  0.  0.  0.  0.  0.  0.  0.  0.  0.  0.  0.  0.  0.  0.]\n",
      " [ 0.  0.  0.  0.  0.  0.  0.  0.  0.  0.  0.  0.  0.  0.  0.]\n",
      " [ 0.  0.  0.  0.  0.  0.  0.  0.  0.  0.  0.  0.  0.  0.  0.]\n",
      " [ 0.  0.  0.  0.  0.  0.  0.  0.  0.  0.  0.  0.  0.  0.  0.]]\n"
     ]
    }
   ],
   "source": [
    "grid = bbox_from_binarized_grid(img, gridsize=(15, 15))\n",
    "print grid"
   ]
  },
  {
   "cell_type": "code",
   "execution_count": 9,
   "metadata": {
    "collapsed": false
   },
   "outputs": [],
   "source": [
    "def get_bbox_from_grid(img, grid):\n",
    "    # get top\n",
    "    for i in range(grid.shape[0]):\n",
    "        if grid[i].sum() > 0:\n",
    "            top = i\n",
    "            break\n",
    "    \n",
    "    # get left\n",
    "    for j in range(grid.shape[1]):\n",
    "        if grid[:, j].sum() > 0:\n",
    "            left = j\n",
    "            break\n",
    "        \n",
    "    # get bottom\n",
    "    for i in range(grid.shape[0] - 1, -1, -1):\n",
    "        if grid[i].sum() > 0:\n",
    "            bottom = i\n",
    "            break\n",
    "            \n",
    "    # get right\n",
    "    for j in range(grid.shape[1] - 1, -1, -1):\n",
    "        if grid[:, j].sum() > 0:\n",
    "            right = j\n",
    "            break\n",
    "    \n",
    "    print (top, left, right, bottom)\n",
    "    \n",
    "    # (x, y)\n",
    "    pt1 = (img.shape[1]/grid.shape[1]*left, img.shape[0]/grid.shape[0]*top)\n",
    "    \n",
    "    # (right+1) and (bottom+1) cuz grid only represents the left hand corner of a block\n",
    "    pt2 = (img.shape[1]/grid.shape[1]*(right+1), img.shape[0]/grid.shape[0]*(bottom+1))\n",
    "    \n",
    "    return pt1, pt2\n"
   ]
  },
  {
   "cell_type": "code",
   "execution_count": 10,
   "metadata": {
    "collapsed": false
   },
   "outputs": [
    {
     "name": "stdout",
     "output_type": "stream",
     "text": [
      "(4, 6, 7, 6)\n",
      "(252, 128) (336, 224)\n"
     ]
    }
   ],
   "source": [
    "pt1, pt2 = get_bbox_from_grid(img, grid)\n",
    "print pt1, pt2"
   ]
  },
  {
   "cell_type": "code",
   "execution_count": 11,
   "metadata": {
    "collapsed": false
   },
   "outputs": [],
   "source": [
    "cv2.rectangle(imgcopy, pt1, pt2, color=(0, 0, 255), thickness=5)"
   ]
  },
  {
   "cell_type": "code",
   "execution_count": 12,
   "metadata": {
    "collapsed": false
   },
   "outputs": [
    {
     "data": {
      "text/plain": [
       "<matplotlib.image.AxesImage at 0x7f3420ade810>"
      ]
     },
     "execution_count": 12,
     "metadata": {},
     "output_type": "execute_result"
    },
    {
     "data": {
      "image/png": "[encoded data removed]",
      "text/plain": [
       "<matplotlib.figure.Figure at 0x7f3420b4e990>"
      ]
     },
     "metadata": {},
     "output_type": "display_data"
    }
   ],
   "source": [
    "plt.imshow(imgcopy)"
   ]
  }
 ],
 "metadata": {
  "kernelspec": {
   "display_name": "Python 2",
   "language": "python",
   "name": "python2"
  },
  "language_info": {
   "codemirror_mode": {
    "name": "ipython",
    "version": 2
   },
   "file_extension": ".py",
   "mimetype": "text/x-python",
   "name": "python",
   "nbconvert_exporter": "python",
   "pygments_lexer": "ipython2",
   "version": "2.7.6"
  }
 },
 "nbformat": 4,
 "nbformat_minor": 0
}
